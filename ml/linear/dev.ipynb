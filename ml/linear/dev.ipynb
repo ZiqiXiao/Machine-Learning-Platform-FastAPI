{
 "cells": [
  {
   "cell_type": "markdown",
   "metadata": {},
   "source": [
    "# Linear Regression"
   ]
  },
  {
   "cell_type": "markdown",
   "metadata": {},
   "source": [
    "## Train"
   ]
  },
  {
   "cell_type": "code",
   "execution_count": 2,
   "metadata": {},
   "outputs": [
    {
     "name": "stdout",
     "output_type": "stream",
     "text": [
      "\u001b[32m2023-10-22 23:50:55.703\u001b[0m ml | \u001b[32m\u001b[1mINFO    \u001b[0m | \u001b[36mLinearRegression\u001b[0m:\u001b[36mtrain\u001b[0m:\u001b[36m14\u001b[0m - \u001b[32m\u001b[1mStart training\u001b[0m\n",
      "\u001b[32m2023-10-22 23:50:55.707\u001b[0m ml | \u001b[32m\u001b[1mINFO    \u001b[0m | \u001b[36mml.linear.LinearBM\u001b[0m:\u001b[36m_prepare_data\u001b[0m:\u001b[36m24\u001b[0m - \u001b[32m\u001b[1mRead data from diabetes.csv; It has 442 rows, 11 ftrs, and target as label\u001b[0m\n",
      "\u001b[32m2023-10-22 23:50:55.711\u001b[0m ml | \u001b[38;2;0;255;0m\u001b[1mSUCCESS \u001b[0m | \u001b[36mLinearRegression\u001b[0m:\u001b[36mtrain\u001b[0m:\u001b[36m21\u001b[0m - \u001b[38;2;0;255;0m\u001b[1mTraining finished\u001b[0m\n"
     ]
    },
    {
     "data": {
      "text/plain": [
       "array([ 4.82408069e-01, -2.54894306e+02,  5.12354032e+02,  2.51230550e+02,\n",
       "       -1.03760852e+03,  6.16049474e+02,  2.58293479e+02,  3.38254072e+02,\n",
       "        8.13299974e+02,  8.74020753e+01])"
      ]
     },
     "execution_count": 2,
     "metadata": {},
     "output_type": "execute_result"
    }
   ],
   "source": [
    "import sys\n",
    "sys.path.append('../../')\n",
    "from LinearRegression import LinearRegressionModel\n",
    "from ml.linear import LinearBM\n",
    "\n",
    "m = LinearRegressionModel()\n",
    "train_params = LinearBM.TrainParams(data_path='diabetes.csv', label='target', train_size=0.8)\n",
    "m.train(train_params)\n",
    "m.model.coef_"
   ]
  },
  {
   "cell_type": "markdown",
   "metadata": {},
   "source": [
    "## Predict"
   ]
  },
  {
   "cell_type": "code",
   "execution_count": null,
   "metadata": {},
   "outputs": [],
   "source": []
  },
  {
   "cell_type": "markdown",
   "metadata": {},
   "source": [
    "## Save Model"
   ]
  },
  {
   "cell_type": "code",
   "execution_count": null,
   "metadata": {},
   "outputs": [],
   "source": []
  },
  {
   "cell_type": "markdown",
   "metadata": {},
   "source": [
    "## Load Model"
   ]
  },
  {
   "cell_type": "code",
   "execution_count": null,
   "metadata": {},
   "outputs": [],
   "source": []
  }
 ],
 "metadata": {
  "kernelspec": {
   "display_name": "venv",
   "language": "python",
   "name": "python3"
  },
  "language_info": {
   "codemirror_mode": {
    "name": "ipython",
    "version": 3
   },
   "file_extension": ".py",
   "mimetype": "text/x-python",
   "name": "python",
   "nbconvert_exporter": "python",
   "pygments_lexer": "ipython3",
   "version": "3.11.5"
  }
 },
 "nbformat": 4,
 "nbformat_minor": 2
}
